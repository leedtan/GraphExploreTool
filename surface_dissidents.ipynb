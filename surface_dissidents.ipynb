{
 "cells": [
  {
   "cell_type": "code",
   "execution_count": 1,
   "metadata": {
    "collapsed": true
   },
   "outputs": [],
   "source": [
    "import pickle\n",
    "with open('graph.pkl', 'rb') as f:\n",
    "    graph = pickle.load(f)\n"
   ]
  },
  {
   "cell_type": "code",
   "execution_count": 12,
   "metadata": {
    "collapsed": true
   },
   "outputs": [],
   "source": [
    "def _explore_nodes(nodes_to_explore, dist_remaining, previously_explored, nodes):\n",
    "    next_nodes_to_explore = set()\n",
    "    for active in nodes_to_explore not in previously_explored:\n",
    "        connections = active.get_connections()\n",
    "        for connection in connections:\n",
    "            next_nodes_to_explore.add(nodes[connection])\n",
    "        previously_explored.add(active)\n",
    "    if dist_remaining > 0:\n",
    "        return _explore_nodes(next_nodes_to_explore, dist_remaining - 1, previously_explored, nodes)\n",
    "    else:\n",
    "        return previously_explored\n",
    "    \n",
    "def explore_graph(node, distance, nodes):\n",
    "    return _explore_nodes([node], distance, set(), nodes)"
   ]
  },
  {
   "cell_type": "code",
   "execution_count": 19,
   "metadata": {
    "collapsed": true
   },
   "outputs": [],
   "source": [
    "node = list(nodes.keys())[0]"
   ]
  },
  {
   "cell_type": "code",
   "execution_count": 21,
   "metadata": {
    "scrolled": true
   },
   "outputs": [
    {
     "data": {
      "text/plain": [
       "True"
      ]
     },
     "execution_count": 21,
     "metadata": {},
     "output_type": "execute_result"
    }
   ],
   "source": [
    "node in nodes.keys()"
   ]
  },
  {
   "cell_type": "code",
   "execution_count": 22,
   "metadata": {},
   "outputs": [
    {
     "data": {
      "text/plain": [
       "node with name harold.lutz@oceania.tyr"
      ]
     },
     "execution_count": 22,
     "metadata": {},
     "output_type": "execute_result"
    }
   ],
   "source": [
    "nodes[node]"
   ]
  },
  {
   "cell_type": "code",
   "execution_count": 3,
   "metadata": {
    "collapsed": true
   },
   "outputs": [],
   "source": [
    "nodes = graph.get_nodes()"
   ]
  },
  {
   "cell_type": "code",
   "execution_count": 4,
   "metadata": {
    "collapsed": true,
    "scrolled": true
   },
   "outputs": [],
   "source": [
    "explored = explore_graph(list(nodes.values())[0], 1, nodes)"
   ]
  },
  {
   "cell_type": "code",
   "execution_count": 13,
   "metadata": {},
   "outputs": [
    {
     "data": {
      "text/plain": [
       "{'alexis.grigsby@oceania.tyr': node with name alexis.grigsby@oceania.tyr,\n",
       " 'bernardo.giffin@oceania.tyr': node with name bernardo.giffin@oceania.tyr,\n",
       " 'bret.mcgaha@oceania.tyr': node with name bret.mcgaha@oceania.tyr,\n",
       " 'brett.raya@oceania.tyr': node with name brett.raya@oceania.tyr,\n",
       " 'connie.cann@oceania.tyr': node with name connie.cann@oceania.tyr,\n",
       " 'darnell.arnett@oceania.tyr': node with name darnell.arnett@oceania.tyr,\n",
       " 'dorothea.thorp@oceania.tyr': node with name dorothea.thorp@oceania.tyr,\n",
       " 'earl.yoshida@oceania.tyr': node with name earl.yoshida@oceania.tyr,\n",
       " 'elmira.bird@oceania.tyr': node with name elmira.bird@oceania.tyr,\n",
       " 'ethyl.tarr@oceania.tyr': node with name ethyl.tarr@oceania.tyr,\n",
       " 'harold.lutz@oceania.tyr': node with name harold.lutz@oceania.tyr,\n",
       " 'hung.winner@oceania.tyr': node with name hung.winner@oceania.tyr,\n",
       " 'jamie.whitacre@oceania.tyr': node with name jamie.whitacre@oceania.tyr,\n",
       " 'kimberlie.bankhead@oceania.tyr': node with name kimberlie.bankhead@oceania.tyr,\n",
       " 'lakia.redmon@oceania.tyr': node with name lakia.redmon@oceania.tyr,\n",
       " 'merrie.creekmore@oceania.tyr': node with name merrie.creekmore@oceania.tyr,\n",
       " 'regine.dunaway@oceania.tyr': node with name regine.dunaway@oceania.tyr,\n",
       " 'rickie.lail@oceania.tyr': node with name rickie.lail@oceania.tyr,\n",
       " 'robin.schrimsher@oceania.tyr': node with name robin.schrimsher@oceania.tyr,\n",
       " 'roderick.hardcastle@oceania.tyr': node with name roderick.hardcastle@oceania.tyr,\n",
       " 'setsuko.bodine@oceania.tyr': node with name setsuko.bodine@oceania.tyr,\n",
       " 'sumiko.costello@oceania.tyr': node with name sumiko.costello@oceania.tyr}"
      ]
     },
     "execution_count": 13,
     "metadata": {},
     "output_type": "execute_result"
    }
   ],
   "source": [
    "nodes"
   ]
  },
  {
   "cell_type": "code",
   "execution_count": null,
   "metadata": {
    "collapsed": true
   },
   "outputs": [],
   "source": []
  }
 ],
 "metadata": {
  "kernelspec": {
   "display_name": "Python 3",
   "language": "python",
   "name": "python3"
  },
  "language_info": {
   "codemirror_mode": {
    "name": "ipython",
    "version": 3
   },
   "file_extension": ".py",
   "mimetype": "text/x-python",
   "name": "python",
   "nbconvert_exporter": "python",
   "pygments_lexer": "ipython3",
   "version": "3.6.2"
  }
 },
 "nbformat": 4,
 "nbformat_minor": 2
}
